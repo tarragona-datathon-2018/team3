{
 "cells": [
  {
   "cell_type": "markdown",
   "metadata": {},
   "source": [
    "# Lactate Response\n",
    "## Team 3 - Interventions in First Six Hours\n",
    "### MIT Critical Data\n",
    "\n",
    "The purpose of this notebook is to identify if the patient has had pressors, MV and RRT in the first 6 hours in the ICU.\n",
    "\n",
    "## 0 - Envrionment"
   ]
  },
  {
   "cell_type": "code",
   "execution_count": 1,
   "metadata": {},
   "outputs": [],
   "source": [
    "import numpy as np\n",
    "import pandas as pd\n",
    "import psycopg2\n",
    "\n",
    "dbname = 'mimic'\n",
    "schema_name = 'mimiciii'\n",
    "db_schema = 'SET search_path TO {0};'.format(schema_name)\n",
    "con = psycopg2.connect(database=dbname)"
   ]
  },
  {
   "cell_type": "markdown",
   "metadata": {},
   "source": [
    "## 1 - Materialized Views\n",
    "\n",
    "We generate the usual helper functions."
   ]
  },
  {
   "cell_type": "code",
   "execution_count": 2,
   "metadata": {},
   "outputs": [],
   "source": [
    "def execute_query_safely(sql, con):\n",
    "    cur = con.cursor()\n",
    "    try:\n",
    "        cur.execute(sql)\n",
    "    except:\n",
    "        cur.execute('rollback;')\n",
    "        raise\n",
    "    finally:\n",
    "        cur.close()\n",
    "    return\n",
    "\n",
    "def generate_materialized_view(query_file, con, query_schema):\n",
    "    with open(query_file) as fp:\n",
    "        query = ''.join(fp.readlines())\n",
    "    print('Generating materialized view using {} ...'.format(query_file), end=' ')\n",
    "    execute_query_safely(query_schema + query, con)\n",
    "    print('done.')"
   ]
  },
  {
   "cell_type": "markdown",
   "metadata": {},
   "source": [
    "Then we generate the views that have durations."
   ]
  },
  {
   "cell_type": "code",
   "execution_count": 3,
   "metadata": {},
   "outputs": [
    {
     "name": "stdout",
     "output_type": "stream",
     "text": [
      "Generating materialized view using ./sql/ventilation-durations.sql ... done.\n",
      "Generating materialized view using ./sql/crrt-durations.sql ... done.\n",
      "Generating materialized view using ./sql/vasopressor-durations.sql ... done.\n"
     ]
    }
   ],
   "source": [
    "generate_materialized_view(query_file='./sql/ventilation-durations.sql', con=con, query_schema=db_schema)\n",
    "generate_materialized_view(query_file='./sql/crrt-durations.sql', con=con, query_schema=db_schema)\n",
    "generate_materialized_view(query_file='./sql/vasopressor-durations.sql', con=con, query_schema=db_schema)"
   ]
  },
  {
   "cell_type": "markdown",
   "metadata": {},
   "source": [
    "Next, we craft a query for determining if these occured in the first 6 hours of the ICU stay.\n",
    "\n",
    "## 2 - Query\n",
    "\n",
    "We'll start with ventilation."
   ]
  },
  {
   "cell_type": "code",
   "execution_count": 4,
   "metadata": {},
   "outputs": [
    {
     "name": "stdout",
     "output_type": "stream",
     "text": [
      "(61532, 2)\n"
     ]
    },
    {
     "data": {
      "text/html": [
       "<div>\n",
       "<style scoped>\n",
       "    .dataframe tbody tr th:only-of-type {\n",
       "        vertical-align: middle;\n",
       "    }\n",
       "\n",
       "    .dataframe tbody tr th {\n",
       "        vertical-align: top;\n",
       "    }\n",
       "\n",
       "    .dataframe thead th {\n",
       "        text-align: right;\n",
       "    }\n",
       "</style>\n",
       "<table border=\"1\" class=\"dataframe\">\n",
       "  <thead>\n",
       "    <tr style=\"text-align: right;\">\n",
       "      <th></th>\n",
       "      <th>icustay_id</th>\n",
       "      <th>vent_6hours</th>\n",
       "    </tr>\n",
       "  </thead>\n",
       "  <tbody>\n",
       "    <tr>\n",
       "      <th>0</th>\n",
       "      <td>233338</td>\n",
       "      <td>0</td>\n",
       "    </tr>\n",
       "    <tr>\n",
       "      <th>1</th>\n",
       "      <td>297372</td>\n",
       "      <td>0</td>\n",
       "    </tr>\n",
       "    <tr>\n",
       "      <th>2</th>\n",
       "      <td>243212</td>\n",
       "      <td>1</td>\n",
       "    </tr>\n",
       "    <tr>\n",
       "      <th>3</th>\n",
       "      <td>290736</td>\n",
       "      <td>0</td>\n",
       "    </tr>\n",
       "    <tr>\n",
       "      <th>4</th>\n",
       "      <td>262921</td>\n",
       "      <td>1</td>\n",
       "    </tr>\n",
       "  </tbody>\n",
       "</table>\n",
       "</div>"
      ],
      "text/plain": [
       "   icustay_id  vent_6hours\n",
       "0      233338            0\n",
       "1      297372            0\n",
       "2      243212            1\n",
       "3      290736            0\n",
       "4      262921            1"
      ]
     },
     "execution_count": 4,
     "metadata": {},
     "output_type": "execute_result"
    }
   ],
   "source": [
    "query = db_schema + '''\n",
    "\n",
    "WITH vent_offset AS (\n",
    "    SELECT ie.icustay_id, \n",
    "        ROUND((CAST(vd.starttime AS date) - CAST(ie.intime AS date))/365.242, 2) AS vent_offset\n",
    "    FROM icustays ie\n",
    "    LEFT JOIN ventdurations vd\n",
    "        ON ie.icustay_id = vd.icustay_id\n",
    ")\n",
    "SELECT vo.icustay_id,\n",
    "    MAX (CASE \n",
    "        WHEN vo.vent_offset <= 0.25 AND vo.vent_offset >= -0.83 THEN 1\n",
    "        ELSE 0 END) AS vent_6hours\n",
    "FROM vent_offset vo\n",
    "GROUP BY vo.icustay_id;\n",
    "'''\n",
    "\n",
    "vent_df = pd.read_sql_query(query, con)\n",
    "print(vent_df.shape)\n",
    "vent_df.head()"
   ]
  },
  {
   "cell_type": "markdown",
   "metadata": {},
   "source": [
    "Now we apply the same approach to CRRT."
   ]
  },
  {
   "cell_type": "code",
   "execution_count": 5,
   "metadata": {},
   "outputs": [
    {
     "name": "stdout",
     "output_type": "stream",
     "text": [
      "(61532, 2)\n"
     ]
    },
    {
     "data": {
      "text/html": [
       "<div>\n",
       "<style scoped>\n",
       "    .dataframe tbody tr th:only-of-type {\n",
       "        vertical-align: middle;\n",
       "    }\n",
       "\n",
       "    .dataframe tbody tr th {\n",
       "        vertical-align: top;\n",
       "    }\n",
       "\n",
       "    .dataframe thead th {\n",
       "        text-align: right;\n",
       "    }\n",
       "</style>\n",
       "<table border=\"1\" class=\"dataframe\">\n",
       "  <thead>\n",
       "    <tr style=\"text-align: right;\">\n",
       "      <th></th>\n",
       "      <th>icustay_id</th>\n",
       "      <th>crrt_6hours</th>\n",
       "    </tr>\n",
       "  </thead>\n",
       "  <tbody>\n",
       "    <tr>\n",
       "      <th>0</th>\n",
       "      <td>233338</td>\n",
       "      <td>0</td>\n",
       "    </tr>\n",
       "    <tr>\n",
       "      <th>1</th>\n",
       "      <td>297372</td>\n",
       "      <td>0</td>\n",
       "    </tr>\n",
       "    <tr>\n",
       "      <th>2</th>\n",
       "      <td>243212</td>\n",
       "      <td>0</td>\n",
       "    </tr>\n",
       "    <tr>\n",
       "      <th>3</th>\n",
       "      <td>290736</td>\n",
       "      <td>0</td>\n",
       "    </tr>\n",
       "    <tr>\n",
       "      <th>4</th>\n",
       "      <td>262921</td>\n",
       "      <td>0</td>\n",
       "    </tr>\n",
       "  </tbody>\n",
       "</table>\n",
       "</div>"
      ],
      "text/plain": [
       "   icustay_id  crrt_6hours\n",
       "0      233338            0\n",
       "1      297372            0\n",
       "2      243212            0\n",
       "3      290736            0\n",
       "4      262921            0"
      ]
     },
     "execution_count": 5,
     "metadata": {},
     "output_type": "execute_result"
    }
   ],
   "source": [
    "query = db_schema + '''\n",
    "\n",
    "WITH crrt_offset AS (\n",
    "    SELECT ie.icustay_id, \n",
    "        ROUND((CAST(cd.starttime AS date) - CAST(ie.intime AS date))/365.242, 2) AS crrt_offset\n",
    "    FROM icustays ie\n",
    "    LEFT JOIN crrtdurations cd\n",
    "        ON ie.icustay_id = cd.icustay_id\n",
    ")\n",
    "SELECT co.icustay_id,\n",
    "    MAX (CASE \n",
    "        WHEN co.crrt_offset <= 0.25 AND co.crrt_offset >= -0.83 THEN 1\n",
    "        ELSE 0 END) AS crrt_6hours\n",
    "FROM crrt_offset co\n",
    "GROUP BY co.icustay_id;\n",
    "'''\n",
    "\n",
    "crrt_df = pd.read_sql_query(query, con)\n",
    "print(crrt_df.shape)\n",
    "crrt_df.head()"
   ]
  },
  {
   "cell_type": "markdown",
   "metadata": {},
   "source": [
    "Finally, we turn to vasopressors."
   ]
  },
  {
   "cell_type": "code",
   "execution_count": 6,
   "metadata": {},
   "outputs": [
    {
     "name": "stdout",
     "output_type": "stream",
     "text": [
      "(61532, 2)\n"
     ]
    },
    {
     "data": {
      "text/html": [
       "<div>\n",
       "<style scoped>\n",
       "    .dataframe tbody tr th:only-of-type {\n",
       "        vertical-align: middle;\n",
       "    }\n",
       "\n",
       "    .dataframe tbody tr th {\n",
       "        vertical-align: top;\n",
       "    }\n",
       "\n",
       "    .dataframe thead th {\n",
       "        text-align: right;\n",
       "    }\n",
       "</style>\n",
       "<table border=\"1\" class=\"dataframe\">\n",
       "  <thead>\n",
       "    <tr style=\"text-align: right;\">\n",
       "      <th></th>\n",
       "      <th>icustay_id</th>\n",
       "      <th>vp_6hours</th>\n",
       "    </tr>\n",
       "  </thead>\n",
       "  <tbody>\n",
       "    <tr>\n",
       "      <th>0</th>\n",
       "      <td>233338</td>\n",
       "      <td>0</td>\n",
       "    </tr>\n",
       "    <tr>\n",
       "      <th>1</th>\n",
       "      <td>297372</td>\n",
       "      <td>0</td>\n",
       "    </tr>\n",
       "    <tr>\n",
       "      <th>2</th>\n",
       "      <td>243212</td>\n",
       "      <td>1</td>\n",
       "    </tr>\n",
       "    <tr>\n",
       "      <th>3</th>\n",
       "      <td>290736</td>\n",
       "      <td>1</td>\n",
       "    </tr>\n",
       "    <tr>\n",
       "      <th>4</th>\n",
       "      <td>262921</td>\n",
       "      <td>1</td>\n",
       "    </tr>\n",
       "  </tbody>\n",
       "</table>\n",
       "</div>"
      ],
      "text/plain": [
       "   icustay_id  vp_6hours\n",
       "0      233338          0\n",
       "1      297372          0\n",
       "2      243212          1\n",
       "3      290736          1\n",
       "4      262921          1"
      ]
     },
     "execution_count": 6,
     "metadata": {},
     "output_type": "execute_result"
    }
   ],
   "source": [
    "query = db_schema + '''\n",
    "\n",
    "WITH pressor_offset AS (\n",
    "    SELECT ie.icustay_id, \n",
    "        ROUND((CAST(vpd.starttime AS date) - CAST(ie.intime AS date))/365.242, 2) AS pressor_offset\n",
    "    FROM icustays ie\n",
    "    LEFT JOIN vasopressordurations vpd\n",
    "        ON ie.icustay_id = vpd.icustay_id\n",
    ")\n",
    "SELECT vp.icustay_id,\n",
    "    MAX (CASE \n",
    "        WHEN vp.pressor_offset <= 0.25 THEN 1\n",
    "        ELSE 0 END) AS vp_6hours\n",
    "FROM pressor_offset vp\n",
    "GROUP BY vp.icustay_id;\n",
    "'''\n",
    "\n",
    "pressor_df = pd.read_sql_query(query, con)\n",
    "print(pressor_df.shape)\n",
    "pressor_df.head()"
   ]
  },
  {
   "cell_type": "markdown",
   "metadata": {},
   "source": [
    "## 3 - Merge and Save"
   ]
  },
  {
   "cell_type": "code",
   "execution_count": 7,
   "metadata": {},
   "outputs": [],
   "source": [
    "interventions_df = vent_df.merge(crrt_df)\n",
    "interventions_df = interventions_df.merge(pressor_df)\n",
    "interventions_df.to_csv('~/Desktop/interventions_6h.csv', index=False)"
   ]
  }
 ],
 "metadata": {
  "kernelspec": {
   "display_name": "Python 3",
   "language": "python",
   "name": "python3"
  },
  "language_info": {
   "codemirror_mode": {
    "name": "ipython",
    "version": 3
   },
   "file_extension": ".py",
   "mimetype": "text/x-python",
   "name": "python",
   "nbconvert_exporter": "python",
   "pygments_lexer": "ipython3",
   "version": "3.6.4"
  }
 },
 "nbformat": 4,
 "nbformat_minor": 2
}
